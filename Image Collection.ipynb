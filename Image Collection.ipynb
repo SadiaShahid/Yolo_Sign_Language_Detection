{
 "cells": [
  {
   "cell_type": "code",
   "execution_count": 1,
   "metadata": {},
   "outputs": [],
   "source": [
    "import cv2 #opencv\n",
    "import os\n",
    "import time\n",
    "import uuid #to name our img files"
   ]
  },
  {
   "cell_type": "code",
   "execution_count": 2,
   "metadata": {},
   "outputs": [],
   "source": [
    "IMAGES_PATH = '\\collectedimages'"
   ]
  },
  {
   "cell_type": "code",
   "execution_count": 3,
   "metadata": {},
   "outputs": [],
   "source": [
    "labels = ['hello','thanks','yes','no','iLoveYou'] #we're are going to collect 5 poses\n",
    "number_images = 15 #no of images we are going to be collecting (train on 13 and test on 2)"
   ]
  },
  {
   "cell_type": "code",
   "execution_count": 4,
   "metadata": {},
   "outputs": [
    {
     "name": "stderr",
     "output_type": "stream",
     "text": [
      "A subdirectory or file Tensorflow\\workspace\\images\\collectedimages\\hello already exists.\n",
      "Error occurred while processing: Tensorflow\\workspace\\images\\collectedimages\\hello.\n",
      "A subdirectory or file #create already exists.\n",
      "Error occurred while processing: #create.\n",
      "A subdirectory or file directory already exists.\n",
      "Error occurred while processing: directory.\n"
     ]
    },
    {
     "name": "stdout",
     "output_type": "stream",
     "text": [
      "Collecting Image for: hello\n"
     ]
    },
    {
     "name": "stderr",
     "output_type": "stream",
     "text": [
      "A subdirectory or file Tensorflow\\workspace\\images\\collectedimages\\thanks already exists.\n",
      "Error occurred while processing: Tensorflow\\workspace\\images\\collectedimages\\thanks.\n",
      "A subdirectory or file #create already exists.\n",
      "Error occurred while processing: #create.\n",
      "A subdirectory or file directory already exists.\n",
      "Error occurred while processing: directory.\n"
     ]
    },
    {
     "name": "stdout",
     "output_type": "stream",
     "text": [
      "Collecting Image for: thanks\n"
     ]
    },
    {
     "name": "stderr",
     "output_type": "stream",
     "text": [
      "A subdirectory or file Tensorflow\\workspace\\images\\collectedimages\\yes already exists.\n",
      "Error occurred while processing: Tensorflow\\workspace\\images\\collectedimages\\yes.\n",
      "A subdirectory or file #create already exists.\n",
      "Error occurred while processing: #create.\n",
      "A subdirectory or file directory already exists.\n",
      "Error occurred while processing: directory.\n"
     ]
    },
    {
     "name": "stdout",
     "output_type": "stream",
     "text": [
      "Collecting Image for: yes\n"
     ]
    },
    {
     "name": "stderr",
     "output_type": "stream",
     "text": [
      "A subdirectory or file Tensorflow\\workspace\\images\\collectedimages\\no already exists.\n",
      "Error occurred while processing: Tensorflow\\workspace\\images\\collectedimages\\no.\n",
      "A subdirectory or file #create already exists.\n",
      "Error occurred while processing: #create.\n",
      "A subdirectory or file directory already exists.\n",
      "Error occurred while processing: directory.\n"
     ]
    },
    {
     "name": "stdout",
     "output_type": "stream",
     "text": [
      "Collecting Image for: no\n"
     ]
    },
    {
     "name": "stderr",
     "output_type": "stream",
     "text": [
      "A subdirectory or file Tensorflow\\workspace\\images\\collectedimages\\iLoveYou already exists.\n",
      "Error occurred while processing: Tensorflow\\workspace\\images\\collectedimages\\iLoveYou.\n",
      "A subdirectory or file #create already exists.\n",
      "Error occurred while processing: #create.\n",
      "A subdirectory or file directory already exists.\n",
      "Error occurred while processing: directory.\n"
     ]
    },
    {
     "name": "stdout",
     "output_type": "stream",
     "text": [
      "Collecting Image for: iLoveYou\n"
     ]
    }
   ],
   "source": [
    "for label in labels:\n",
    "    !mkdir = {'\\collectedimages\\\\'+label} #create directory\n",
    "    cap = cv2.VideoCapture(0) #intialize web cam\n",
    "    print(\"Collecting Image for: {}\".format(label))\n",
    "    time.sleep(5) #time to get in position\n",
    "    for imgnum in range(number_images):\n",
    "        ret, frame = cap.read()\n",
    "        imagename = os.path.join(IMAGES_PATH,label,label+'.'+'{}.jpg'.format(str(uuid.uuid1())))\n",
    "        cv2.imwrite(imagename, frame)\n",
    "        cv2.imshow('frame',frame)\n",
    "        time.sleep(2)\n",
    "        \n",
    "        if cv2.waitKey(1)==ord('q'):\n",
    "            break\n",
    "    \n",
    "    cap.release()"
   ]
  },
  {
   "cell_type": "markdown",
   "metadata": {},
   "source": [
    "###  Label Image using label-Image pkg"
   ]
  },
  {
   "cell_type": "code",
   "execution_count": 5,
   "metadata": {},
   "outputs": [],
   "source": [
    "# python labelImg.py in labelimg folder\n"
   ]
  },
  {
   "cell_type": "code",
   "execution_count": null,
   "metadata": {},
   "outputs": [],
   "source": []
  }
 ],
 "metadata": {
  "kernelspec": {
   "display_name": "Python 3",
   "language": "python",
   "name": "python3"
  },
  "language_info": {
   "codemirror_mode": {
    "name": "ipython",
    "version": 3
   },
   "file_extension": ".py",
   "mimetype": "text/x-python",
   "name": "python",
   "nbconvert_exporter": "python",
   "pygments_lexer": "ipython3",
   "version": "3.7.4"
  }
 },
 "nbformat": 4,
 "nbformat_minor": 2
}
